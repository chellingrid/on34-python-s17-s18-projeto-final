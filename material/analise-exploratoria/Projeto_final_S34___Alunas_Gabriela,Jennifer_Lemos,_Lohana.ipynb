{
  "cells": [
    {
      "cell_type": "code",
      "execution_count": null,
      "metadata": {},
      "outputs": [],
      "source": []
    },
    {
      "cell_type": "code",
      "execution_count": 1,
      "metadata": {
        "colab": {
          "base_uri": "https://localhost:8080/",
          "height": 499
        },
        "id": "yaN_NNdMmBQd",
        "outputId": "94210bc5-c8c5-4466-da78-4f81dd5f64d9"
      },
      "outputs": [
        {
          "data": {
            "image/png": "[encoded data removed]",
            "text/plain": [
              "<Figure size 800x600 with 1 Axes>"
            ]
          },
          "metadata": {},
          "output_type": "display_data"
        }
      ],
      "source": [
        "import matplotlib.pyplot as plt\n",
        "\n",
        "# Criando a figura\n",
        "plt.figure(figsize=(8, 6))\n",
        "\n",
        "# Adicionando o título estilizado\n",
        "plt.text(0.5, 0.5, 'Segurança e Violação do Direito da Mulher',\n",
        "         fontsize=24, fontweight='bold', color='purple',\n",
        "         ha='center', va='center', fontstyle='italic')\n",
        "\n",
        "\n",
        "plt.axis('off')\n",
        "\n",
        "# Exibir\n",
        "plt.show()"
      ]
    },
    {
      "cell_type": "code",
      "execution_count": null,
      "metadata": {
        "colab": {
          "base_uri": "https://localhost:8080/"
        },
        "id": "ZK0SIH4V3wFn",
        "outputId": "0ecabe9f-a2d9-4818-b8a2-21551b766a26"
      },
      "outputs": [],
      "source": [
        "# Importando biblioteca para análise do CSV\n",
        "import pandas as pd\n",
        "\n",
        "# Arquivo/ carregamento\n",
        "file_path = 'dados_violencia_mulheres_ses_2023.csv'\n",
        "df = pd.read_csv(file_path)\n",
        "\n",
        "df.head(), df.columns\n"
      ]
    },
    {
      "cell_type": "code",
      "execution_count": null,
      "metadata": {
        "colab": {
          "base_uri": "https://localhost:8080/",
          "height": 621
        },
        "id": "xUZf8ium4WWK",
        "outputId": "d8a1a7f2-99bb-4d9d-b19c-87d0964107ab"
      },
      "outputs": [],
      "source": [
        "import matplotlib.pyplot as plt\n",
        "import seaborn as sns\n",
        "\n",
        "# Definição do gráfico\n",
        "sns.set(style=\"whitegrid\")\n",
        "\n",
        "# Análise  e correlação com dados violência por raça.\n",
        "violence_by_race = df.groupby('CS_RACA')[['VIOL_FISIC', 'VIOL_PSICO', 'VIOL_SEXU']].apply(lambda x: (x == 'Sim').sum())\n",
        "\n",
        "# Gráfico  violência/raça\n",
        "fig, ax = plt.subplots(1, 2, figsize=(14, 6))\n",
        "\n",
        "\n",
        "violence_by_race.plot(kind='bar', stacked=True, ax=ax[0])\n",
        "ax[0].set_title('Violência por Raça')\n",
        "ax[0].set_xlabel('Raça')\n",
        "ax[0].set_ylabel('Número de Ocorrências')\n",
        "ax[0].legend(title='Tipo de Violência')\n",
        "\n",
        "# Distribuição da idade no conjunto de dados\n",
        "sns.histplot(df['NU_IDADE_N'], bins=20, kde=True, ax=ax[1], color='green')\n",
        "ax[1].set_title('Distribuição da Idade das Vítimas')\n",
        "ax[1].set_xlabel('Idade')\n",
        "ax[1].set_ylabel('Frequência')\n",
        "\n",
        "plt.tight_layout()\n",
        "plt.show()\n"
      ]
    },
    {
      "cell_type": "code",
      "execution_count": null,
      "metadata": {
        "colab": {
          "base_uri": "https://localhost:8080/",
          "height": 1000
        },
        "id": "Y1nhP51bpPUU",
        "outputId": "eaf3e6d2-1ee7-4640-cab9-b9ae2b625ced"
      },
      "outputs": [],
      "source": [
        "import pandas as pd\n",
        "import matplotlib.pyplot as plt\n",
        "import seaborn as sns\n",
        "\n",
        "# Carregar o dataset com o delimitador correto\n",
        "df = pd.read_csv('dados_violencia_mulheres_ses_2023.csv', sep=';')\n",
        "\n",
        "# Verificar os nomes das colunas\n",
        "print(df.columns)\n",
        "\n",
        "# 1. Distribuição dos tipos de violência\n",
        "# Certificar-se de que estamos lidando com valores consistentes\n",
        "df[['VIOL_FISIC', 'VIOL_PSICO', 'VIOL_SEXU']] = df[['VIOL_FISIC', 'VIOL_PSICO', 'VIOL_SEXU']].apply(lambda x: x.str.strip().str.lower().fillna('não'))\n",
        "\n",
        "# Contando o número de ocorrências de cada tipo de violência\n",
        "violence_types = df[['VIOL_FISIC', 'VIOL_PSICO', 'VIOL_SEXU']].apply(lambda x: (x == 'sim').sum())\n",
        "\n",
        "# 2. Violência por faixa etária\n",
        "df['age_group'] = pd.cut(df['NU_IDADE_N'], bins=[0, 12, 18, 30, 50, 100], labels=[\"Criança\", \"Adolescente\", \"Jovem Adulto\", \"Adulto\", \"Idoso\"])\n",
        "violence_by_age_group = df.groupby('age_group')[['VIOL_FISIC', 'VIOL_PSICO', 'VIOL_SEXU']].apply(lambda x: (x == 'sim').sum())\n",
        "\n",
        "# 3. Repetição de violência por raça\n",
        "repetition_by_race = df.groupby('CS_RACA')['OUT_VEZES'].value_counts(normalize=True).unstack().fillna(0)\n",
        "\n",
        "# Plotando os insights\n",
        "fig, ax = plt.subplots(2, 2, figsize=(14, 12))\n",
        "\n",
        "# 1. Gráfico para distribuição dos tipos de violência\n",
        "violence_types.plot(kind='bar', ax=ax[0, 0], color=['blue', 'orange', 'red'])\n",
        "ax[0, 0].set_title('Distribuição dos Tipos de Violência')\n",
        "ax[0, 0].set_ylabel('Número de Ocorrências')\n",
        "\n",
        "# 2. Violência por faixa etária\n",
        "violence_by_age_group.plot(kind='bar', stacked=True, ax=ax[0, 1])\n",
        "ax[0, 1].set_title('Tipos de Violência por Faixa Etária')\n",
        "ax[0, 1].set_ylabel('Número de Ocorrências')\n",
        "ax[0, 1].legend(title='Tipo de Violência')\n",
        "\n",
        "# 3. Repetição de violência por raça\n",
        "repetition_by_race.plot(kind='bar', stacked=True, ax=ax[1, 0])\n",
        "ax[1, 0].set_title('Repetição de Violência por Raça')\n",
        "ax[1, 0].set_ylabel('Proporção de Ocorrências')\n",
        "ax[1, 0].legend(title='Repetição')\n",
        "\n",
        "plt.tight_layout()\n",
        "plt.show()\n"
      ]
    },
    {
      "cell_type": "markdown",
      "metadata": {
        "id": "G4dKucF_pPJH"
      },
      "source": []
    },
    {
      "cell_type": "code",
      "execution_count": null,
      "metadata": {
        "colab": {
          "base_uri": "https://localhost:8080/",
          "height": 140
        },
        "id": "9dvtQbGJnOZV",
        "outputId": "2264f632-b159-48a5-fc4c-d7718b7ca2e8"
      },
      "outputs": [],
      "source": [
        "import matplotlib.pyplot as plt\n",
        "\n",
        "# Criar uma figura\n",
        "plt.figure(figsize=(8, 6))\n",
        "\n",
        "# Adicionar o título estilizado\n",
        "plt.text(0.3, 0.3, 'Segurança e Violação do Direito da Mulher TRANS e TRAVESTI',\n",
        "         fontsize=24, fontweight='bold', color='purple',\n",
        "         ha='center', va='center', fontstyle='italic')\n",
        "\n",
        "# Remover os eixos\n",
        "plt.axis('off')\n",
        "\n",
        "# Exibir\n",
        "plt.show()"
      ]
    },
    {
      "cell_type": "markdown",
      "metadata": {
        "id": "bd0AcrBrspcz"
      },
      "source": []
    },
    {
      "cell_type": "code",
      "execution_count": null,
      "metadata": {
        "colab": {
          "base_uri": "https://localhost:8080/",
          "height": 74
        },
        "id": "R4zmcFdRsqlR",
        "outputId": "2b9198e6-de70-45ec-ff9f-c8b8c617cc20"
      },
      "outputs": [],
      "source": [
        "from google.colab import files\n",
        "uploaded = files.upload()\n"
      ]
    },
    {
      "cell_type": "code",
      "execution_count": null,
      "metadata": {
        "colab": {
          "base_uri": "https://localhost:8080/"
        },
        "id": "jQHr5cVmtuHO",
        "outputId": "09669650-925d-444f-8498-dad1e1311ab4"
      },
      "outputs": [],
      "source": [
        "print(uploaded)\n"
      ]
    },
    {
      "cell_type": "code",
      "execution_count": null,
      "metadata": {
        "colab": {
          "base_uri": "https://localhost:8080/",
          "height": 932
        },
        "id": "0ZrEH92luonj",
        "outputId": "5ade1d5e-6924-4134-95c7-c7e02e3169c2"
      },
      "outputs": [],
      "source": [
        "data = pd.read_csv('dados_violencia_mulheres_ses_2023 (2) (1).csv', delimiter=';')\n",
        "import pandas as pd\n",
        "import matplotlib.pyplot as plt\n",
        "\n",
        "# Carregar os dados com o delimitador correto\n",
        "data = pd.read_csv('dados_violencia_mulheres_ses_2023 (2) (1).csv', delimiter=';')\n",
        "\n",
        "# Filtrar os dados para identificar \"Mulheres Trans\" na coluna \"IDENT_GEN\"\n",
        "mulheres_trans = data[data['IDENT_GEN'].str.contains('Trans', case=False, na=False)]\n",
        "\n",
        "# Verificar se há dados e exibir as primeiras linhas (opcional)\n",
        "print(mulheres_trans.head())\n",
        "\n",
        "# Criar o gráfico de distribuição das idades\n",
        "plt.figure(figsize=(8, 6))\n",
        "plt.hist(mulheres_trans['NU_IDADE_N'].dropna(), bins=10, color='purple', edgecolor='black')\n",
        "plt.title('Distribuição de Idades - Mulheres Trans', fontsize=14)\n",
        "plt.xlabel('Idade', fontsize=12)\n",
        "plt.ylabel('Frequência', fontsize=12)\n",
        "plt.grid(True)\n",
        "\n",
        "# Exibir o gráfico\n",
        "plt.show()\n",
        "\n"
      ]
    }
  ],
  "metadata": {
    "colab": {
      "provenance": []
    },
    "kernelspec": {
      "display_name": "Python 3",
      "name": "python3"
    },
    "language_info": {
      "codemirror_mode": {
        "name": "ipython",
        "version": 3
      },
      "file_extension": ".py",
      "mimetype": "text/x-python",
      "name": "python",
      "nbconvert_exporter": "python",
      "pygments_lexer": "ipython3",
      "version": "3.11.7"
    }
  },
  "nbformat": 4,
  "nbformat_minor": 0
}
